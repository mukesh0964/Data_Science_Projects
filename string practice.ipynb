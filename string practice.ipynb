{
 "cells": [
  {
   "cell_type": "code",
   "execution_count": null,
   "id": "4832e68a",
   "metadata": {},
   "outputs": [],
   "source": [
    "# strings are immutable(can not change the content)"
   ]
  },
  {
   "cell_type": "code",
   "execution_count": 9,
   "id": "b71636d0",
   "metadata": {},
   "outputs": [
    {
     "name": "stdout",
     "output_type": "stream",
     "text": [
      "Hello World\n",
      "H\n",
      "d\n",
      "Hello \n",
      "Hello Wor\n",
      "HloWr\n",
      "lo Worl\n",
      "l ol\n"
     ]
    },
    {
     "data": {
      "text/plain": [
       "11"
      ]
     },
     "execution_count": 9,
     "metadata": {},
     "output_type": "execute_result"
    }
   ],
   "source": [
    "a=\"Hello World\"\n",
    "print(a)\n",
    "print(a[0])\n",
    "print(a[-1])\n",
    "print(a[0:6])\n",
    "print(a[0:9:1])\n",
    "print(a[0:9:2])\n",
    "print(a[-8:-1])\n",
    "print(a[-8:-1:2])\n",
    "len(a)"
   ]
  },
  {
   "cell_type": "code",
   "execution_count": 19,
   "id": "d9c0c1e5",
   "metadata": {},
   "outputs": [
    {
     "name": "stdout",
     "output_type": "stream",
     "text": [
      "Hello WorldLearn's ML\n",
      "Hello World  Learn's ML\n",
      "doesn't\n",
      "how's you\n"
     ]
    }
   ],
   "source": [
    "a=\"Hello World\"\n",
    "b=\"Learn's ML\"\n",
    "\n",
    "print(a+b)\n",
    "print(a + \"  \" +b)\n",
    "#print('doesn't') error    \n",
    "print('doesn\\'t')\n",
    "print(\"how's you\")\n",
    "#print(\"how\"s you\")  error\n",
    "\n"
   ]
  },
  {
   "cell_type": "code",
   "execution_count": 24,
   "id": "33d55a81",
   "metadata": {},
   "outputs": [
    {
     "data": {
      "text/plain": [
       "False"
      ]
     },
     "execution_count": 24,
     "metadata": {},
     "output_type": "execute_result"
    }
   ],
   "source": [
    "#Membersip operator 'IN NOT IN'\n",
    "e=\"Hello World\"\n",
    "'he' in e"
   ]
  },
  {
   "cell_type": "code",
   "execution_count": 25,
   "id": "cfbf61e3",
   "metadata": {},
   "outputs": [
    {
     "data": {
      "text/plain": [
       "True"
      ]
     },
     "execution_count": 25,
     "metadata": {},
     "output_type": "execute_result"
    }
   ],
   "source": [
    "'o' in e"
   ]
  },
  {
   "cell_type": "code",
   "execution_count": 26,
   "id": "37b143e2",
   "metadata": {},
   "outputs": [
    {
     "data": {
      "text/plain": [
       "True"
      ]
     },
     "execution_count": 26,
     "metadata": {},
     "output_type": "execute_result"
    }
   ],
   "source": [
    "'ol' not in e"
   ]
  },
  {
   "cell_type": "code",
   "execution_count": 23,
   "id": "470f436a",
   "metadata": {},
   "outputs": [
    {
     "data": {
      "text/plain": [
       "False"
      ]
     },
     "execution_count": 23,
     "metadata": {},
     "output_type": "execute_result"
    }
   ],
   "source": [
    "'ol' in e"
   ]
  },
  {
   "cell_type": "code",
   "execution_count": 34,
   "id": "68a955f4",
   "metadata": {},
   "outputs": [],
   "source": [
    "#proof that string are immutable\n",
    "st=\"Hello\"\n",
    "# st[1]='i'-'str' object does not support item assignment"
   ]
  },
  {
   "cell_type": "code",
   "execution_count": 33,
   "id": "8c4d8091",
   "metadata": {},
   "outputs": [
    {
     "data": {
      "text/plain": [
       "'ardf'"
      ]
     },
     "execution_count": 33,
     "metadata": {},
     "output_type": "execute_result"
    }
   ],
   "source": [
    "aa=\"asdf\"\n",
    "bb=aa.replace('s','r')\n",
    "bb"
   ]
  },
  {
   "cell_type": "code",
   "execution_count": 42,
   "id": "07f5a215",
   "metadata": {},
   "outputs": [
    {
     "name": "stdout",
     "output_type": "stream",
     "text": [
      "asdf\n"
     ]
    }
   ],
   "source": [
    "print(aa)"
   ]
  },
  {
   "cell_type": "code",
   "execution_count": 43,
   "id": "53b95c6a",
   "metadata": {},
   "outputs": [
    {
     "name": "stdout",
     "output_type": "stream",
     "text": [
      "ardf\n"
     ]
    }
   ],
   "source": [
    "print(bb)"
   ]
  },
  {
   "cell_type": "code",
   "execution_count": 44,
   "id": "7049d7c6",
   "metadata": {},
   "outputs": [
    {
     "data": {
      "text/plain": [
       "4"
      ]
     },
     "execution_count": 44,
     "metadata": {},
     "output_type": "execute_result"
    }
   ],
   "source": [
    "len(bb)"
   ]
  },
  {
   "cell_type": "markdown",
   "id": "4c3f3f05",
   "metadata": {},
   "source": [
    "# Count() function"
   ]
  },
  {
   "cell_type": "code",
   "execution_count": 45,
   "id": "731ccaf5",
   "metadata": {},
   "outputs": [
    {
     "data": {
      "text/plain": [
       "'asdf'"
      ]
     },
     "execution_count": 45,
     "metadata": {},
     "output_type": "execute_result"
    }
   ],
   "source": [
    "aa"
   ]
  },
  {
   "cell_type": "code",
   "execution_count": 46,
   "id": "74e55071",
   "metadata": {},
   "outputs": [
    {
     "data": {
      "text/plain": [
       "1"
      ]
     },
     "execution_count": 46,
     "metadata": {},
     "output_type": "execute_result"
    }
   ],
   "source": [
    "aa.count('a')"
   ]
  },
  {
   "cell_type": "code",
   "execution_count": 48,
   "id": "937f1823",
   "metadata": {},
   "outputs": [
    {
     "data": {
      "text/plain": [
       "3"
      ]
     },
     "execution_count": 48,
     "metadata": {},
     "output_type": "execute_result"
    }
   ],
   "source": [
    "string=\"Hello you are trying to learn machine learning\"\n",
    "string.count('o')"
   ]
  },
  {
   "cell_type": "code",
   "execution_count": 50,
   "id": "2872f9bd",
   "metadata": {},
   "outputs": [
    {
     "data": {
      "text/plain": [
       "2"
      ]
     },
     "execution_count": 50,
     "metadata": {},
     "output_type": "execute_result"
    }
   ],
   "source": [
    "string.count('o',6) # 6 is starting index"
   ]
  },
  {
   "cell_type": "code",
   "execution_count": 54,
   "id": "1410203d",
   "metadata": {},
   "outputs": [
    {
     "data": {
      "text/plain": [
       "1"
      ]
     },
     "execution_count": 54,
     "metadata": {},
     "output_type": "execute_result"
    }
   ],
   "source": [
    "string.count('o',6,22) # 6 is starting index,22 is end index which is not included"
   ]
  },
  {
   "cell_type": "code",
   "execution_count": 56,
   "id": "ea35d92d",
   "metadata": {},
   "outputs": [
    {
     "data": {
      "text/plain": [
       "6"
      ]
     },
     "execution_count": 56,
     "metadata": {},
     "output_type": "execute_result"
    }
   ],
   "source": [
    "#index() function gives index of first y character\n",
    "string.index('y')"
   ]
  },
  {
   "cell_type": "code",
   "execution_count": 57,
   "id": "627b8d54",
   "metadata": {},
   "outputs": [
    {
     "ename": "ValueError",
     "evalue": "substring not found",
     "output_type": "error",
     "traceback": [
      "\u001b[1;31m---------------------------------------------------------------------------\u001b[0m",
      "\u001b[1;31mValueError\u001b[0m                                Traceback (most recent call last)",
      "\u001b[1;32m<ipython-input-57-91906956e9d7>\u001b[0m in \u001b[0;36m<module>\u001b[1;34m\u001b[0m\n\u001b[1;32m----> 1\u001b[1;33m \u001b[0mstring\u001b[0m\u001b[1;33m.\u001b[0m\u001b[0mindex\u001b[0m\u001b[1;33m(\u001b[0m\u001b[1;34m'z'\u001b[0m\u001b[1;33m)\u001b[0m\u001b[1;33m\u001b[0m\u001b[1;33m\u001b[0m\u001b[0m\n\u001b[0m",
      "\u001b[1;31mValueError\u001b[0m: substring not found"
     ]
    }
   ],
   "source": [
    "string.index('z')"
   ]
  },
  {
   "cell_type": "code",
   "execution_count": 61,
   "id": "d5f547c4",
   "metadata": {},
   "outputs": [
    {
     "name": "stdout",
     "output_type": "stream",
     "text": [
      "C:\\myfolder\n",
      "ew\n"
     ]
    }
   ],
   "source": [
    "# concept of raw string (eg-only ew is printing but not new.)so use r before quotes start \n",
    "code='C:\\myfolder\\new'\n",
    "print(code)"
   ]
  },
  {
   "cell_type": "code",
   "execution_count": 63,
   "id": "03027bd2",
   "metadata": {},
   "outputs": [
    {
     "name": "stdout",
     "output_type": "stream",
     "text": [
      "C:\\myfolder\\new\n"
     ]
    }
   ],
   "source": [
    "cc=r'C:\\myfolder\\new'\n",
    "print(cc)"
   ]
  },
  {
   "cell_type": "markdown",
   "id": "778f6090",
   "metadata": {},
   "source": [
    "# string concatenation"
   ]
  },
  {
   "cell_type": "code",
   "execution_count": 64,
   "id": "049f9cc8",
   "metadata": {},
   "outputs": [
    {
     "data": {
      "text/plain": [
       "'helloworld'"
      ]
     },
     "execution_count": 64,
     "metadata": {},
     "output_type": "execute_result"
    }
   ],
   "source": [
    "\"hello\" + \"world\""
   ]
  },
  {
   "cell_type": "code",
   "execution_count": 65,
   "id": "37de9457",
   "metadata": {},
   "outputs": [
    {
     "data": {
      "text/plain": [
       "'IndiaIndiaIndia'"
      ]
     },
     "execution_count": 65,
     "metadata": {},
     "output_type": "execute_result"
    }
   ],
   "source": [
    "nn=\"India\"\n",
    "nn*3"
   ]
  },
  {
   "cell_type": "code",
   "execution_count": 66,
   "id": "a6eb1a2d",
   "metadata": {},
   "outputs": [
    {
     "ename": "TypeError",
     "evalue": "unsupported operand type(s) for -: 'str' and 'str'",
     "output_type": "error",
     "traceback": [
      "\u001b[1;31m---------------------------------------------------------------------------\u001b[0m",
      "\u001b[1;31mTypeError\u001b[0m                                 Traceback (most recent call last)",
      "\u001b[1;32m<ipython-input-66-459fe2cda94c>\u001b[0m in \u001b[0;36m<module>\u001b[1;34m\u001b[0m\n\u001b[0;32m      1\u001b[0m \u001b[0mmm\u001b[0m\u001b[1;33m=\u001b[0m\u001b[1;34m\"Ind\"\u001b[0m\u001b[1;33m\u001b[0m\u001b[1;33m\u001b[0m\u001b[0m\n\u001b[1;32m----> 2\u001b[1;33m \u001b[0mnn\u001b[0m\u001b[1;33m-\u001b[0m\u001b[0mmm\u001b[0m\u001b[1;33m\u001b[0m\u001b[1;33m\u001b[0m\u001b[0m\n\u001b[0m",
      "\u001b[1;31mTypeError\u001b[0m: unsupported operand type(s) for -: 'str' and 'str'"
     ]
    }
   ],
   "source": [
    "mm=\"Ind\"\n",
    "nn-mm"
   ]
  },
  {
   "cell_type": "code",
   "execution_count": 67,
   "id": "761a6867",
   "metadata": {},
   "outputs": [
    {
     "data": {
      "text/plain": [
       "'IndiaInd'"
      ]
     },
     "execution_count": 67,
     "metadata": {},
     "output_type": "execute_result"
    }
   ],
   "source": [
    "nn+mm"
   ]
  },
  {
   "cell_type": "code",
   "execution_count": 68,
   "id": "5e0f159d",
   "metadata": {},
   "outputs": [
    {
     "ename": "TypeError",
     "evalue": "can't multiply sequence by non-int of type 'str'",
     "output_type": "error",
     "traceback": [
      "\u001b[1;31m---------------------------------------------------------------------------\u001b[0m",
      "\u001b[1;31mTypeError\u001b[0m                                 Traceback (most recent call last)",
      "\u001b[1;32m<ipython-input-68-8a8759c37b2b>\u001b[0m in \u001b[0;36m<module>\u001b[1;34m\u001b[0m\n\u001b[1;32m----> 1\u001b[1;33m \u001b[0mnn\u001b[0m\u001b[1;33m*\u001b[0m\u001b[0mmm\u001b[0m\u001b[1;33m\u001b[0m\u001b[1;33m\u001b[0m\u001b[0m\n\u001b[0m",
      "\u001b[1;31mTypeError\u001b[0m: can't multiply sequence by non-int of type 'str'"
     ]
    }
   ],
   "source": [
    "nn*mm"
   ]
  },
  {
   "cell_type": "code",
   "execution_count": 69,
   "id": "5b0b0c4b",
   "metadata": {},
   "outputs": [
    {
     "data": {
      "text/plain": [
       "'python'"
      ]
     },
     "execution_count": 69,
     "metadata": {},
     "output_type": "execute_result"
    }
   ],
   "source": [
    "'py''thon' #Two or more string literals (i.e. the ones enclosed between quotes) next to each other are automatically concatenated."
   ]
  },
  {
   "cell_type": "code",
   "execution_count": null,
   "id": "f16d60e2",
   "metadata": {},
   "outputs": [],
   "source": [
    "#  prefix = 'Py'\n",
    "#  prefix 'thon' now output is not python but gives error."
   ]
  },
  {
   "cell_type": "code",
   "execution_count": 72,
   "id": "a530baba",
   "metadata": {},
   "outputs": [
    {
     "ename": "SyntaxError",
     "evalue": "invalid syntax (<ipython-input-72-e4d0d4f36bcd>, line 2)",
     "output_type": "error",
     "traceback": [
      "\u001b[1;36m  File \u001b[1;32m\"<ipython-input-72-e4d0d4f36bcd>\"\u001b[1;36m, line \u001b[1;32m2\u001b[0m\n\u001b[1;33m    new string='i' + st[1:]\u001b[0m\n\u001b[1;37m        ^\u001b[0m\n\u001b[1;31mSyntaxError\u001b[0m\u001b[1;31m:\u001b[0m invalid syntax\n"
     ]
    }
   ],
   "source": [
    "#https://docs.python.org/3/tutorial/introduction.html#strings ,in python documentation,below codes works\n",
    "st=\"Hello\"\n",
    "new string='i' + st[1:]\n",
    "print(new string)"
   ]
  },
  {
   "cell_type": "code",
   "execution_count": null,
   "id": "eebfc6cd",
   "metadata": {},
   "outputs": [],
   "source": []
  },
  {
   "cell_type": "code",
   "execution_count": null,
   "id": "92d47dbe",
   "metadata": {},
   "outputs": [],
   "source": []
  },
  {
   "cell_type": "code",
   "execution_count": null,
   "id": "b000fdc2",
   "metadata": {},
   "outputs": [],
   "source": []
  },
  {
   "cell_type": "code",
   "execution_count": null,
   "id": "649cff92",
   "metadata": {},
   "outputs": [],
   "source": []
  },
  {
   "cell_type": "code",
   "execution_count": null,
   "id": "fee6ed28",
   "metadata": {},
   "outputs": [],
   "source": []
  },
  {
   "cell_type": "code",
   "execution_count": null,
   "id": "e3ccfd15",
   "metadata": {},
   "outputs": [],
   "source": []
  },
  {
   "cell_type": "code",
   "execution_count": null,
   "id": "ed2f4b22",
   "metadata": {},
   "outputs": [],
   "source": []
  },
  {
   "cell_type": "code",
   "execution_count": null,
   "id": "1c9bdc2d",
   "metadata": {},
   "outputs": [],
   "source": []
  },
  {
   "cell_type": "code",
   "execution_count": null,
   "id": "7d377cab",
   "metadata": {},
   "outputs": [],
   "source": []
  },
  {
   "cell_type": "code",
   "execution_count": null,
   "id": "91992753",
   "metadata": {},
   "outputs": [],
   "source": []
  }
 ],
 "metadata": {
  "kernelspec": {
   "display_name": "Python 3",
   "language": "python",
   "name": "python3"
  },
  "language_info": {
   "codemirror_mode": {
    "name": "ipython",
    "version": 3
   },
   "file_extension": ".py",
   "mimetype": "text/x-python",
   "name": "python",
   "nbconvert_exporter": "python",
   "pygments_lexer": "ipython3",
   "version": "3.8.8"
  }
 },
 "nbformat": 4,
 "nbformat_minor": 5
}
